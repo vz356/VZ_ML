{
 "cells": [
  {
   "cell_type": "code",
   "execution_count": null,
   "metadata": {},
   "outputs": [],
   "source": []
  },
  {
   "cell_type": "markdown",
   "metadata": {},
   "source": [
    "---\n",
    "title: \"Homework 3\"\n",
    "format: \n",
    "    html:\n",
    "        embed-resources: true\n",
    "---\n",
    "\n",
    "\n",
    "__Due Date:__ 2022-10-30 at 8:30 AM PT\n",
    "\n",
    "\n",
    "\n",
    "__Name:__ Virginia\n",
    "\n"
   ]
  },
  {
   "cell_type": "markdown",
   "metadata": {},
   "source": [
    "## Preparation\n",
    "\n",
    "1. Create a 'code' folder in the root directory of your repository.\n",
    "1. Inside the 'code' folder, create a file '01_clean_data.\\<your_extension_here\\>'.\n",
    "Your extension should be the one you use for your programming language of choice (e.g., '.R' for R, '.py' for Python, '.jl' for Julia).\n",
    "1. Copy any code from HW_02 you need to subset and merge the NRI and SVI datasets into the '01_clean_data' file.\n",
    "1. Add a 'processed' directory to the 'data' folder.\n",
    "1. Add a line at the end of the file that saves the merged dataset to 'data/processed' directory.\n",
    "1. Run the '01_clean_data' file to ensure that the merged dataset runs and creates the proper file.\n",
    "1. Add and commit the '01_clean_data' file to the repository.\n",
    "\n",
    "\n",
    "\n"
   ]
  },
  {
   "cell_type": "markdown",
   "metadata": {},
   "source": [
    "## Homework - Principal Component Analysis\n",
    "\n",
    "The CDC Social Vulnerability Index (SVI) takes multiple differen population-level inputs (e.g., % of the population living in poverty, % of the population without health insurance) to identify particularly vulnerable counties.\n",
    "While the CDC SVI scores rely on adding up the percentiles of various characteristics, there are alternative indexes (e.g., [University of South Carolina SoVI index](https://sc.edu/study/colleges_schools/artsandsciences/centers_and_institutes/hvri/data_and_resources/sovi/index.php)) that use methods like PCA.\n",
    "Here, we are going to use the CDC SVI data to create an alternative index based on PCA.\n",
    "\n",
    "1. The following variables are used in the SVI:\n",
    "`EP_POV150, EP_UNEMP, EP_HBURD, EP_NOHSDP, EP_UNINSUR, EP_AGE65, EP_AGE17, EP_DISABL, EP_SNGPNT, EP_LIMENG, EP_MINRTY, EP_MUNIT, EP_MOBILE, EP_CROWD, EP_NOVEH, EP_GROUPQ, EP_NOINT`\n",
    "\n",
    "    __Perform PCA on the variables above.__\n",
    "    \n",
    "    _Note: Typically variables should be standardized to have mean 0 and variance 1 before performing PCA. Most software packages for performing PCA automatically do this or include this as a function argument. Check the function / package documentation to determine whether this standardization is happening and standardize the data if it is not automatic._\n",
    "1. Plot the eigenvectors or loadings associated of the first three principal components.\n",
    "Make sure that the axis labels correspond to the variable names and not the indices of the variables.\n",
    "How would you interpret the first three prinicpal components?\n",
    "_Note: you can find the documentation for the SVI variables [here](https://www.atsdr.cdc.gov/placeandhealth/svi/documentation/SVI_documentation_2022.html)._\n",
    "1. There are several different ways to determine the number of principal components to retain.\n",
    "One common method is to retain principal components that explain a certain percentage of the variance in the data.\n",
    "    a. How many principal components are needed to explain 80% of the variance in the data?\n",
    "    a. How many principal components are needed to explain 90% of the variance in the data?\n",
    "1. An alternative approach is to plot the eigenvalues of the principal components and retain the components that are above the \"elbow\" in the plot. In other words the eigenvalues that are substantially larger than the rest.\n",
    "    a. Create a [scree plot](https://en.wikipedia.org/wiki/Scree_plot) of the eigenvalues of the principal components.\n",
    "    a. How many principal components should be retained based on the scree plot? This video may help: [PCA Scree Plot](https://youtu.be/vFUvNICWVz4?si=6NbyRcLRGT8L1HzI)\n",
    "1. Cross-validation is another method to determine the number of principal components to retain.\n",
    "This process requires some linear algebra that is beyond the scope of this course.\n",
    "As such, I have written example [code](https://github.com/gabehassler/PRGS-Intro-to-ML-2024/blob/main/examples/pca_cross_validation.jl) in Julia that demonstrates how to perform cross-validation.\n",
    "This procedure is a simplified versionof an approach explained in this [blog post](https://alexhwilliams.info/itsneuronalblog/2018/02/26/crossval/).\n",
    "For the purposes of this assignment, the `pca_cv_error` function is a black box that returns the cross-validation error for a given number of principal components.\n",
    "_Note: If you use a different programming language, you can use ChatGPT to translate the code to your language of choice._\n",
    "    a. Compute the cross-validation error for 1 to 17 principal components. If this process is parallelizable, parallelize the code. If setting a random number seed would make this work more reproducible, set a random number seed.\n",
    "    a. How many principal components should be retained based on the cross-validation error?\n"
   ]
  },
  {
   "cell_type": "markdown",
   "metadata": {},
   "source": []
  }
 ],
 "metadata": {
  "language_info": {
   "name": "python"
  }
 },
 "nbformat": 4,
 "nbformat_minor": 2
}
